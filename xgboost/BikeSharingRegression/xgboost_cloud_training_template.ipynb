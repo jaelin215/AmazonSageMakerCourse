{
 "cells": [
  {
   "cell_type": "markdown",
   "metadata": {},
   "source": [
    "# XGBoost Built-in Algorithm - Bike Rental Regression Example "
   ]
  },
  {
   "cell_type": "code",
   "execution_count": 88,
   "metadata": {},
   "outputs": [],
   "source": [
    "import numpy as np\n",
    "import pandas as pd\n",
    "\n",
    "import boto3\n",
    "import re\n",
    "\n",
    "import sagemaker\n",
    "from sagemaker import get_execution_role\n",
    "# SageMaker SDK Documentation: http://sagemaker.readthedocs.io/en/latest/estimators.html"
   ]
  },
  {
   "cell_type": "markdown",
   "metadata": {},
   "source": [
    "## Upload Data to S3"
   ]
  },
  {
   "cell_type": "code",
   "execution_count": 89,
   "metadata": {},
   "outputs": [],
   "source": [
    "bucket_name = 'jaelin-ml-sagemaker'\n",
    "\n",
    "training_folder = 'bikerental/training/'\n",
    "validation_folder = 'bikerental/validation/'\n",
    "test_folder = 'bikerental/test/'\n",
    "\n",
    "s3_model_output_location = f's3://{bucket_name}/bikerental/model'\n",
    "s3_training_file_location = f's3://{bucket_name}/{training_folder}'\n",
    "s3_validation_file_location = f's3://{bucket_name}/{validation_folder}'\n",
    "s3_test_file_location = f's3://{bucket_name}/{test_folder}'"
   ]
  },
  {
   "cell_type": "code",
   "execution_count": 90,
   "metadata": {},
   "outputs": [
    {
     "name": "stdout",
     "output_type": "stream",
     "text": [
      "s3://jaelin-ml-sagemaker/bikerental/model\n",
      "s3://jaelin-ml-sagemaker/bikerental/training/\n",
      "s3://jaelin-ml-sagemaker/bikerental/validation/\n",
      "s3://jaelin-ml-sagemaker/bikerental/test/\n"
     ]
    }
   ],
   "source": [
    "print(s3_model_output_location)\n",
    "print(s3_training_file_location)\n",
    "print(s3_validation_file_location)\n",
    "print(s3_test_file_location)"
   ]
  },
  {
   "cell_type": "code",
   "execution_count": 91,
   "metadata": {},
   "outputs": [],
   "source": [
    "# Write and Reading from S3 is just as easy\n",
    "# files are referred as objects in S3.  \n",
    "# file name is referred as key name in S3\n",
    "\n",
    "# File stored in S3 is automatically replicated across 3 different availability zones \n",
    "# in the region where the bucket was created.\n",
    "\n",
    "# http://boto3.readthedocs.io/en/latest/guide/s3.html\n",
    "def write_to_s3(filename, bucket, key):\n",
    "    with open(filename,'rb') as f: # Read in binary mode\n",
    "        return boto3.Session().resource('s3').Bucket(bucket).Object(key).upload_fileobj(f)"
   ]
  },
  {
   "cell_type": "code",
   "execution_count": 92,
   "metadata": {},
   "outputs": [
    {
     "name": "stderr",
     "output_type": "stream",
     "text": [
      "INFO:botocore.credentials:Found credentials in environment variables.\n",
      "INFO:botocore.credentials:Found credentials in environment variables.\n",
      "INFO:botocore.credentials:Found credentials in environment variables.\n"
     ]
    }
   ],
   "source": [
    "write_to_s3('bike_train.csv', \n",
    "            bucket_name,\n",
    "            training_folder + 'bike_train.csv')\n",
    "\n",
    "write_to_s3('bike_validation.csv',\n",
    "            bucket_name,\n",
    "            validation_folder + 'bike_validation.csv')\n",
    "\n",
    "write_to_s3('bike_test.csv',\n",
    "            bucket_name,\n",
    "            test_folder + 'bike_test.csv')"
   ]
  },
  {
   "cell_type": "markdown",
   "metadata": {},
   "source": [
    "## Training Algorithm Docker Image\n",
    "### SageMaker maintains a separate image for algorithm and region\n",
    "https://docs.aws.amazon.com/sagemaker/latest/dg/sagemaker-algo-docker-registry-paths.html"
   ]
  },
  {
   "cell_type": "code",
   "execution_count": 93,
   "metadata": {},
   "outputs": [
    {
     "name": "stdout",
     "output_type": "stream",
     "text": [
      "Checkpoint uri: s3://jaelin-ml-sagemaker/bikerental/checkpoints/xgboost-bikerental-v1\n"
     ]
    }
   ],
   "source": [
    "# Use Spot Instance - Save up to 90% of training cost by using spot instances when compared to on-demand instances\n",
    "# Reference: https://github.com/aws-samples/amazon-sagemaker-managed-spot-training/blob/main/xgboost_built_in_managed_spot_training_checkpointing/xgboost_built_in_managed_spot_training_checkpointing.ipynb\n",
    "\n",
    "# if you are still on two-month free-tier you can use the on-demand instance by setting:\n",
    "#   use_spot_instances = False\n",
    "\n",
    "# We will use spot for training\n",
    "use_spot_instances = True\n",
    "max_run = 3600 # in seconds\n",
    "max_wait = 7200 if use_spot_instances else None # in seconds\n",
    "\n",
    "job_name = 'xgboost-bikerental-v1'\n",
    "\n",
    "checkpoint_s3_uri = None\n",
    "\n",
    "if use_spot_instances:\n",
    "    checkpoint_s3_uri = f's3://{bucket_name}/bikerental/checkpoints/{job_name}'\n",
    "    \n",
    "print (f'Checkpoint uri: {checkpoint_s3_uri}')"
   ]
  },
  {
   "cell_type": "code",
   "execution_count": 94,
   "metadata": {},
   "outputs": [],
   "source": [
    "# Establish a session with AWS\n",
    "sess = sagemaker.Session()"
   ]
  },
  {
   "cell_type": "code",
   "execution_count": 95,
   "metadata": {},
   "outputs": [],
   "source": [
    "# role = get_execution_role()\n",
    "\n",
    "import os\n",
    "role = os.environ.get(\"AWS_SAGEMAKER_ROLE\")"
   ]
  },
  {
   "cell_type": "code",
   "execution_count": 96,
   "metadata": {},
   "outputs": [
    {
     "name": "stdout",
     "output_type": "stream",
     "text": [
      "arn:aws:iam::654654382334:role/service-role/AmazonSageMaker-ExecutionRole-20250530T151413\n"
     ]
    }
   ],
   "source": [
    "# This role contains the permissions needed to train, deploy models\n",
    "# SageMaker Service is trusted to assume this role\n",
    "print(role)"
   ]
  },
  {
   "cell_type": "code",
   "execution_count": 97,
   "metadata": {},
   "outputs": [
    {
     "name": "stderr",
     "output_type": "stream",
     "text": [
      "INFO:sagemaker.image_uris:Ignoring unnecessary instance type: None.\n"
     ]
    },
    {
     "name": "stdout",
     "output_type": "stream",
     "text": [
      "Using XGBoost Container 683313688378.dkr.ecr.us-east-1.amazonaws.com/sagemaker-xgboost:1.2-2\n"
     ]
    }
   ],
   "source": [
    "# https://sagemaker.readthedocs.io/en/stable/api/utility/image_uris.html#sagemaker.image_uris.retrieve\n",
    "\n",
    "# SDK 2 uses image_uris.retrieve the container image location\n",
    "\n",
    "# Use XGBoost 1.2 version \n",
    "container = sagemaker.image_uris.retrieve(\"xgboost\",sess.boto_region_name,version=\"1.2-2\")\n",
    "\n",
    "print (f'Using XGBoost Container {container}')"
   ]
  },
  {
   "cell_type": "markdown",
   "metadata": {},
   "source": [
    "## Build Model"
   ]
  },
  {
   "cell_type": "code",
   "execution_count": 98,
   "metadata": {},
   "outputs": [],
   "source": [
    "# Configure the training job\n",
    "# Specify type and number of instances to use\n",
    "# S3 location where final artifacts needs to be stored\n",
    "\n",
    "#   Reference: http://sagemaker.readthedocs.io/en/latest/estimators.html\n",
    "\n",
    "# for managed spot training, specify the use_spot_instances flag, max_run, max_wait and checkpoint_s3_uri\n",
    "\n",
    "# SDK 2.x version does not require train prefix for instance count and type\n",
    "estimator = sagemaker.estimator.Estimator(\n",
    "    container,\n",
    "    role,\n",
    "    instance_count=1,\n",
    "    instance_type='ml.m5.xlarge',\n",
    "    output_path=s3_model_output_location,\n",
    "    sagemaker_session=sess,\n",
    "    base_job_name = job_name,\n",
    "    use_spot_instances=use_spot_instances,\n",
    "    max_run=max_run,\n",
    "    max_wait=max_wait,\n",
    "    checkpoint_s3_uri=checkpoint_s3_uri)"
   ]
  },
  {
   "cell_type": "code",
   "execution_count": 99,
   "metadata": {},
   "outputs": [],
   "source": [
    "# Specify hyper parameters that appropriate for the training algorithm\n",
    "# XGBoost Training Parameter Reference\n",
    "#  https://github.com/dmlc/xgboost/blob/master/doc/parameter.rst#learning-task-parameters\n",
    "estimator.set_hyperparameters(max_depth=5,\n",
    "                              objective=\"reg:squarederror\",\n",
    "                              eta=0.1,\n",
    "                              num_round=150)"
   ]
  },
  {
   "cell_type": "code",
   "execution_count": 100,
   "metadata": {},
   "outputs": [
    {
     "data": {
      "text/plain": [
       "{'max_depth': 5, 'objective': 'reg:squarederror', 'eta': 0.1, 'num_round': 150}"
      ]
     },
     "execution_count": 100,
     "metadata": {},
     "output_type": "execute_result"
    }
   ],
   "source": [
    "estimator.hyperparameters()"
   ]
  },
  {
   "cell_type": "markdown",
   "metadata": {
    "collapsed": true
   },
   "source": [
    "### Specify Training Data Location and Optionally, Validation Data Location"
   ]
  },
  {
   "cell_type": "code",
   "execution_count": 101,
   "metadata": {},
   "outputs": [],
   "source": [
    "# content type can be libsvm or csv for XGBoost\n",
    "training_input_config = sagemaker.session.TrainingInput(\n",
    "    s3_data=s3_training_file_location,\n",
    "    content_type='csv',\n",
    "    s3_data_type='S3Prefix')\n",
    "\n",
    "validation_input_config = sagemaker.session.TrainingInput(\n",
    "    s3_data=s3_validation_file_location,\n",
    "    content_type='csv',\n",
    "    s3_data_type='S3Prefix'\n",
    ")\n",
    "\n",
    "data_channels = {'train': training_input_config, 'validation': validation_input_config}"
   ]
  },
  {
   "cell_type": "code",
   "execution_count": 102,
   "metadata": {},
   "outputs": [
    {
     "name": "stdout",
     "output_type": "stream",
     "text": [
      "{'DataSource': {'S3DataSource': {'S3DataType': 'S3Prefix', 'S3Uri': 's3://jaelin-ml-sagemaker/bikerental/training/', 'S3DataDistributionType': 'FullyReplicated'}}, 'ContentType': 'csv'}\n",
      "{'DataSource': {'S3DataSource': {'S3DataType': 'S3Prefix', 'S3Uri': 's3://jaelin-ml-sagemaker/bikerental/validation/', 'S3DataDistributionType': 'FullyReplicated'}}, 'ContentType': 'csv'}\n"
     ]
    }
   ],
   "source": [
    "print(training_input_config.config)\n",
    "print(validation_input_config.config)"
   ]
  },
  {
   "cell_type": "markdown",
   "metadata": {},
   "source": [
    "### Train the model"
   ]
  },
  {
   "cell_type": "code",
   "execution_count": 104,
   "metadata": {},
   "outputs": [
    {
     "name": "stderr",
     "output_type": "stream",
     "text": [
      "INFO:sagemaker.telemetry.telemetry_logging:SageMaker Python SDK will collect telemetry to help us better understand our user's needs, diagnose issues, and deliver additional features.\n",
      "To opt out of telemetry, please disable via TelemetryOptOut parameter in SDK defaults config. For more information, refer to https://sagemaker.readthedocs.io/en/stable/overview.html#configuring-and-using-defaults-with-the-sagemaker-python-sdk.\n",
      "INFO:sagemaker:Creating training-job with name: xgboost-bikerental-v1-2025-06-02-01-54-42-192\n"
     ]
    },
    {
     "name": "stdout",
     "output_type": "stream",
     "text": [
      "2025-06-02 01:54:43 Starting - Starting the training job...\n",
      "2025-06-02 01:55:17 Downloading - Downloading input data...\n",
      "2025-06-02 01:55:38 Downloading - Downloading the training image......\n",
      "2025-06-02 01:56:39 Training - Training image download completed. Training in progress.\n",
      "2025-06-02 01:56:39 Uploading - Uploading generated training model[2025-06-02 01:56:33.333 ip-10-0-152-217.ec2.internal:7 INFO utils.py:27] RULE_JOB_STOP_SIGNAL_FILENAME: None\n",
      "[2025-06-02:01:56:33:INFO] Imported framework sagemaker_xgboost_container.training\n",
      "[2025-06-02:01:56:33:INFO] Failed to parse hyperparameter objective value reg:squarederror to Json.\n",
      "Returning the value itself\n",
      "[2025-06-02:01:56:33:INFO] No GPUs detected (normal if no gpus installed)\n",
      "[2025-06-02:01:56:33:INFO] Running XGBoost Sagemaker in algorithm mode\n",
      "[2025-06-02:01:56:33:INFO] Determined delimiter of CSV input is ','\n",
      "[2025-06-02:01:56:33:INFO] Determined delimiter of CSV input is ','\n",
      "[2025-06-02:01:56:33:INFO] Determined delimiter of CSV input is ','\n",
      "[2025-06-02:01:56:33:INFO] Determined delimiter of CSV input is ','\n",
      "[2025-06-02:01:56:33:INFO] Single node training.\n",
      "[2025-06-02:01:56:33:INFO] Train matrix has 7620 rows and 13 columns\n",
      "[2025-06-02:01:56:33:INFO] Validation matrix has 3266 rows\n",
      "[2025-06-02 01:56:33.419 ip-10-0-152-217.ec2.internal:7 INFO json_config.py:91] Creating hook from json_config at /opt/ml/input/config/debughookconfig.json.\n",
      "[2025-06-02 01:56:33.419 ip-10-0-152-217.ec2.internal:7 INFO hook.py:201] tensorboard_dir has not been set for the hook. SMDebug will not be exporting tensorboard summaries.\n",
      "[2025-06-02 01:56:33.419 ip-10-0-152-217.ec2.internal:7 INFO profiler_config_parser.py:102] User has disabled profiler.\n",
      "[2025-06-02 01:56:33.420 ip-10-0-152-217.ec2.internal:7 INFO hook.py:255] Saving to /opt/ml/output/tensors\n",
      "[2025-06-02:01:56:33:INFO] Debug hook created from config\n",
      "[0]#011train-rmse:3.90481#011validation-rmse:3.91500\n",
      "[2025-06-02 01:56:33.427 ip-10-0-152-217.ec2.internal:7 INFO hook.py:423] Monitoring the collections: metrics\n",
      "[2025-06-02 01:56:33.431 ip-10-0-152-217.ec2.internal:7 INFO hook.py:486] Hook is writing from the hook with pid: 7\n",
      "[1]#011train-rmse:3.52571#011validation-rmse:3.53473\n",
      "[2]#011train-rmse:3.18357#011validation-rmse:3.19135\n",
      "[3]#011train-rmse:2.87753#011validation-rmse:2.88396\n",
      "[4]#011train-rmse:2.60175#011validation-rmse:2.60792\n",
      "[5]#011train-rmse:2.35539#011validation-rmse:2.36057\n",
      "[6]#011train-rmse:2.13328#011validation-rmse:2.13766\n",
      "[7]#011train-rmse:1.93436#011validation-rmse:1.93815\n",
      "[8]#011train-rmse:1.75541#011validation-rmse:1.75955\n",
      "[9]#011train-rmse:1.59684#011validation-rmse:1.60086\n",
      "[10]#011train-rmse:1.45230#011validation-rmse:1.45613\n",
      "[11]#011train-rmse:1.32451#011validation-rmse:1.32875\n",
      "[12]#011train-rmse:1.21094#011validation-rmse:1.21528\n",
      "[13]#011train-rmse:1.10819#011validation-rmse:1.11280\n",
      "[14]#011train-rmse:1.01308#011validation-rmse:1.01895\n",
      "[15]#011train-rmse:0.93073#011validation-rmse:0.93658\n",
      "[16]#011train-rmse:0.85905#011validation-rmse:0.86507\n",
      "[17]#011train-rmse:0.79601#011validation-rmse:0.80297\n",
      "[18]#011train-rmse:0.73982#011validation-rmse:0.74767\n",
      "[19]#011train-rmse:0.69114#011validation-rmse:0.69955\n",
      "[20]#011train-rmse:0.64512#011validation-rmse:0.65448\n",
      "[21]#011train-rmse:0.60350#011validation-rmse:0.61416\n",
      "[22]#011train-rmse:0.56996#011validation-rmse:0.58149\n",
      "[23]#011train-rmse:0.53829#011validation-rmse:0.55041\n",
      "[24]#011train-rmse:0.50812#011validation-rmse:0.52163\n",
      "[25]#011train-rmse:0.48574#011validation-rmse:0.50023\n",
      "[26]#011train-rmse:0.46520#011validation-rmse:0.48054\n",
      "[27]#011train-rmse:0.44799#011validation-rmse:0.46408\n",
      "[28]#011train-rmse:0.43257#011validation-rmse:0.44928\n",
      "[29]#011train-rmse:0.41522#011validation-rmse:0.43304\n",
      "[30]#011train-rmse:0.40289#011validation-rmse:0.42101\n",
      "[31]#011train-rmse:0.39077#011validation-rmse:0.40964\n",
      "[32]#011train-rmse:0.37809#011validation-rmse:0.39733\n",
      "[33]#011train-rmse:0.36953#011validation-rmse:0.38971\n",
      "[34]#011train-rmse:0.36220#011validation-rmse:0.38277\n",
      "[35]#011train-rmse:0.35689#011validation-rmse:0.37801\n",
      "[36]#011train-rmse:0.35162#011validation-rmse:0.37343\n",
      "[37]#011train-rmse:0.34744#011validation-rmse:0.36965\n",
      "[38]#011train-rmse:0.33678#011validation-rmse:0.35955\n",
      "[39]#011train-rmse:0.33362#011validation-rmse:0.35671\n",
      "[40]#011train-rmse:0.32949#011validation-rmse:0.35275\n",
      "[41]#011train-rmse:0.32688#011validation-rmse:0.35081\n",
      "[42]#011train-rmse:0.32397#011validation-rmse:0.34836\n",
      "[43]#011train-rmse:0.32150#011validation-rmse:0.34640\n",
      "[44]#011train-rmse:0.31763#011validation-rmse:0.34293\n",
      "[45]#011train-rmse:0.31592#011validation-rmse:0.34152\n",
      "[46]#011train-rmse:0.31395#011validation-rmse:0.33995\n",
      "[47]#011train-rmse:0.30691#011validation-rmse:0.33306\n",
      "[48]#011train-rmse:0.30479#011validation-rmse:0.33161\n",
      "[49]#011train-rmse:0.30333#011validation-rmse:0.33069\n",
      "[50]#011train-rmse:0.30207#011validation-rmse:0.32993\n",
      "[51]#011train-rmse:0.30066#011validation-rmse:0.32894\n",
      "[52]#011train-rmse:0.29921#011validation-rmse:0.32799\n",
      "[53]#011train-rmse:0.29513#011validation-rmse:0.32431\n",
      "[54]#011train-rmse:0.29353#011validation-rmse:0.32319\n",
      "[55]#011train-rmse:0.29248#011validation-rmse:0.32286\n",
      "[56]#011train-rmse:0.28842#011validation-rmse:0.31930\n",
      "[57]#011train-rmse:0.28736#011validation-rmse:0.31863\n",
      "[58]#011train-rmse:0.28610#011validation-rmse:0.31764\n",
      "[59]#011train-rmse:0.28490#011validation-rmse:0.31707\n",
      "[60]#011train-rmse:0.28445#011validation-rmse:0.31689\n",
      "[61]#011train-rmse:0.28325#011validation-rmse:0.31600\n",
      "[62]#011train-rmse:0.28005#011validation-rmse:0.31322\n",
      "[63]#011train-rmse:0.27714#011validation-rmse:0.31055\n",
      "[64]#011train-rmse:0.27636#011validation-rmse:0.31019\n",
      "[65]#011train-rmse:0.27531#011validation-rmse:0.30966\n",
      "[66]#011train-rmse:0.27495#011validation-rmse:0.30961\n",
      "[67]#011train-rmse:0.27261#011validation-rmse:0.30751\n",
      "[68]#011train-rmse:0.27181#011validation-rmse:0.30719\n",
      "[69]#011train-rmse:0.27086#011validation-rmse:0.30673\n",
      "[70]#011train-rmse:0.26922#011validation-rmse:0.30527\n",
      "[71]#011train-rmse:0.26858#011validation-rmse:0.30505\n",
      "[72]#011train-rmse:0.26801#011validation-rmse:0.30484\n",
      "[73]#011train-rmse:0.26709#011validation-rmse:0.30413\n",
      "[74]#011train-rmse:0.26644#011validation-rmse:0.30378\n",
      "[75]#011train-rmse:0.26581#011validation-rmse:0.30345\n",
      "[76]#011train-rmse:0.26528#011validation-rmse:0.30328\n",
      "[77]#011train-rmse:0.26492#011validation-rmse:0.30306\n",
      "[78]#011train-rmse:0.26347#011validation-rmse:0.30183\n",
      "[79]#011train-rmse:0.26262#011validation-rmse:0.30145\n",
      "[80]#011train-rmse:0.26190#011validation-rmse:0.30091\n",
      "[81]#011train-rmse:0.26118#011validation-rmse:0.30070\n",
      "[82]#011train-rmse:0.25986#011validation-rmse:0.29942\n",
      "[83]#011train-rmse:0.25921#011validation-rmse:0.29912\n",
      "[84]#011train-rmse:0.25777#011validation-rmse:0.29817\n",
      "[85]#011train-rmse:0.25732#011validation-rmse:0.29794\n",
      "[86]#011train-rmse:0.25673#011validation-rmse:0.29748\n",
      "[87]#011train-rmse:0.25604#011validation-rmse:0.29707\n",
      "[88]#011train-rmse:0.25562#011validation-rmse:0.29716\n",
      "[89]#011train-rmse:0.25403#011validation-rmse:0.29586\n",
      "[90]#011train-rmse:0.25352#011validation-rmse:0.29580\n",
      "[91]#011train-rmse:0.25343#011validation-rmse:0.29572\n",
      "[92]#011train-rmse:0.25298#011validation-rmse:0.29547\n",
      "[93]#011train-rmse:0.25208#011validation-rmse:0.29489\n",
      "[94]#011train-rmse:0.25175#011validation-rmse:0.29476\n",
      "[95]#011train-rmse:0.25083#011validation-rmse:0.29410\n",
      "[96]#011train-rmse:0.25074#011validation-rmse:0.29411\n",
      "[97]#011train-rmse:0.25040#011validation-rmse:0.29390\n",
      "[98]#011train-rmse:0.24988#011validation-rmse:0.29370\n",
      "[99]#011train-rmse:0.24930#011validation-rmse:0.29357\n",
      "[100]#011train-rmse:0.24832#011validation-rmse:0.29292\n",
      "[101]#011train-rmse:0.24797#011validation-rmse:0.29286\n",
      "[102]#011train-rmse:0.24773#011validation-rmse:0.29273\n",
      "[103]#011train-rmse:0.24704#011validation-rmse:0.29230\n",
      "[104]#011train-rmse:0.24644#011validation-rmse:0.29190\n",
      "[105]#011train-rmse:0.24616#011validation-rmse:0.29185\n",
      "[106]#011train-rmse:0.24597#011validation-rmse:0.29174\n",
      "[107]#011train-rmse:0.24552#011validation-rmse:0.29166\n",
      "[108]#011train-rmse:0.24511#011validation-rmse:0.29155\n",
      "[109]#011train-rmse:0.24450#011validation-rmse:0.29122\n",
      "[110]#011train-rmse:0.24392#011validation-rmse:0.29101\n",
      "[111]#011train-rmse:0.24379#011validation-rmse:0.29100\n",
      "[112]#011train-rmse:0.24358#011validation-rmse:0.29091\n",
      "[113]#011train-rmse:0.24339#011validation-rmse:0.29079\n",
      "[114]#011train-rmse:0.24262#011validation-rmse:0.29032\n",
      "[115]#011train-rmse:0.24232#011validation-rmse:0.29033\n",
      "[116]#011train-rmse:0.24182#011validation-rmse:0.28995\n",
      "[117]#011train-rmse:0.24141#011validation-rmse:0.28982\n",
      "[118]#011train-rmse:0.24083#011validation-rmse:0.28954\n",
      "[119]#011train-rmse:0.24025#011validation-rmse:0.28945\n",
      "[120]#011train-rmse:0.23996#011validation-rmse:0.28938\n",
      "[121]#011train-rmse:0.23951#011validation-rmse:0.28926\n",
      "[122]#011train-rmse:0.23929#011validation-rmse:0.28921\n",
      "[123]#011train-rmse:0.23915#011validation-rmse:0.28911\n",
      "[124]#011train-rmse:0.23864#011validation-rmse:0.28879\n",
      "[125]#011train-rmse:0.23817#011validation-rmse:0.28861\n",
      "[126]#011train-rmse:0.23796#011validation-rmse:0.28842\n",
      "[127]#011train-rmse:0.23744#011validation-rmse:0.28851\n",
      "[128]#011train-rmse:0.23713#011validation-rmse:0.28845\n",
      "[129]#011train-rmse:0.23696#011validation-rmse:0.28839\n",
      "[130]#011train-rmse:0.23653#011validation-rmse:0.28820\n",
      "[131]#011train-rmse:0.23607#011validation-rmse:0.28809\n",
      "[132]#011train-rmse:0.23580#011validation-rmse:0.28810\n",
      "[133]#011train-rmse:0.23528#011validation-rmse:0.28788\n",
      "[134]#011train-rmse:0.23485#011validation-rmse:0.28795\n",
      "[135]#011train-rmse:0.23462#011validation-rmse:0.28789\n",
      "[136]#011train-rmse:0.23447#011validation-rmse:0.28780\n",
      "[137]#011train-rmse:0.23430#011validation-rmse:0.28773\n",
      "[138]#011train-rmse:0.23417#011validation-rmse:0.28769\n",
      "[139]#011train-rmse:0.23404#011validation-rmse:0.28766\n",
      "[140]#011train-rmse:0.23380#011validation-rmse:0.28770\n",
      "[141]#011train-rmse:0.23335#011validation-rmse:0.28762\n",
      "[142]#011train-rmse:0.23327#011validation-rmse:0.28762\n",
      "[143]#011train-rmse:0.23316#011validation-rmse:0.28758\n",
      "[144]#011train-rmse:0.23307#011validation-rmse:0.28758\n",
      "[145]#011train-rmse:0.23256#011validation-rmse:0.28730\n",
      "[146]#011train-rmse:0.23211#011validation-rmse:0.28700\n",
      "[147]#011train-rmse:0.23156#011validation-rmse:0.28691\n",
      "[148]#011train-rmse:0.23124#011validation-rmse:0.28682\n",
      "[149]#011train-rmse:0.23111#011validation-rmse:0.28681\n",
      "\n",
      "2025-06-02 01:56:52 Completed - Training job completed\n",
      "Training seconds: 95\n",
      "Billable seconds: 31\n",
      "Managed Spot Training savings: 67.4%\n"
     ]
    }
   ],
   "source": [
    "# XGBoost supports \"train\", \"validation\" channels\n",
    "# Reference: Supported channels by algorithm\n",
    "#   https://docs.aws.amazon.com/sagemaker/latest/dg/sagemaker-algo-docker-registry-paths.html\n",
    "estimator.fit(data_channels)"
   ]
  },
  {
   "cell_type": "markdown",
   "metadata": {},
   "source": [
    "## Deploy Model"
   ]
  },
  {
   "cell_type": "code",
   "execution_count": 105,
   "metadata": {},
   "outputs": [],
   "source": [
    "# job_name='xgboost-bikerental-v1'"
   ]
  },
  {
   "cell_type": "code",
   "execution_count": 108,
   "metadata": {},
   "outputs": [
    {
     "name": "stderr",
     "output_type": "stream",
     "text": [
      "INFO:sagemaker:Creating model with name: xgboost-bikerental-v1-2025-06-02-01-59-48-258\n",
      "INFO:sagemaker:Creating endpoint-config with name xgboost-bikerental-v1\n",
      "INFO:sagemaker:Creating endpoint with name xgboost-bikerental-v1\n"
     ]
    },
    {
     "name": "stdout",
     "output_type": "stream",
     "text": [
      "------!"
     ]
    }
   ],
   "source": [
    "# Ref: http://sagemaker.readthedocs.io/en/latest/estimators.html\n",
    "predictor = estimator.deploy(initial_instance_count=1,\n",
    "                             instance_type='ml.m5.xlarge',\n",
    "                             endpoint_name = job_name)"
   ]
  },
  {
   "cell_type": "markdown",
   "metadata": {
    "collapsed": true
   },
   "source": [
    "## Run Predictions"
   ]
  },
  {
   "cell_type": "code",
   "execution_count": 109,
   "metadata": {},
   "outputs": [],
   "source": [
    "# SDK 2.0 serializers\n",
    "from sagemaker.serializers import CSVSerializer"
   ]
  },
  {
   "cell_type": "code",
   "execution_count": 110,
   "metadata": {},
   "outputs": [],
   "source": [
    "predictor.serializer = CSVSerializer()"
   ]
  },
  {
   "cell_type": "code",
   "execution_count": 111,
   "metadata": {},
   "outputs": [
    {
     "data": {
      "text/plain": [
       "b'3.622835159301758\\n'"
      ]
     },
     "execution_count": 111,
     "metadata": {},
     "output_type": "execute_result"
    }
   ],
   "source": [
    "predictor.predict([[3,0,1,2,28.7,33.335,79,12.998,2011,2,15,11]])"
   ]
  },
  {
   "cell_type": "markdown",
   "metadata": {
    "collapsed": true
   },
   "source": [
    "## Summary"
   ]
  },
  {
   "cell_type": "markdown",
   "metadata": {},
   "source": [
    "1. Ensure Training, Test and Validation data are in S3 Bucket\n",
    "2. Select Algorithm Container Registry Path - Path varies by region\n",
    "3. Configure Estimator for training - Specify Algorithm container, instance count, instance type, model output location\n",
    "4. Specify algorithm specific hyper parameters\n",
    "5. Train model\n",
    "6. Deploy model - Specify instance count, instance type and endpoint name\n",
    "7. Run Predictions"
   ]
  },
  {
   "cell_type": "markdown",
   "metadata": {},
   "source": []
  }
 ],
 "metadata": {
  "kernelspec": {
   "display_name": "Python 3",
   "language": "python",
   "name": "python3"
  },
  "language_info": {
   "codemirror_mode": {
    "name": "ipython",
    "version": 3
   },
   "file_extension": ".py",
   "mimetype": "text/x-python",
   "name": "python",
   "nbconvert_exporter": "python",
   "pygments_lexer": "ipython3",
   "version": "3.10.17"
  }
 },
 "nbformat": 4,
 "nbformat_minor": 2
}
