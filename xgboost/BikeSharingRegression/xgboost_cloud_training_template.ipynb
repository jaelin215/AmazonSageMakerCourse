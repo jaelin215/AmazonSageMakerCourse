{
 "cells": [
  {
   "cell_type": "markdown",
   "metadata": {},
   "source": [
    "# XGBoost Built-in Algorithm - Bike Rental Regression Example "
   ]
  },
  {
   "cell_type": "code",
   "execution_count": 17,
   "metadata": {},
   "outputs": [],
   "source": [
    "import numpy as np\n",
    "import pandas as pd\n",
    "\n",
    "import boto3\n",
    "import re\n",
    "\n",
    "import sagemaker\n",
    "from sagemaker import get_execution_role\n",
    "# SageMaker SDK Documentation: http://sagemaker.readthedocs.io/en/latest/estimators.html"
   ]
  },
  {
   "cell_type": "markdown",
   "metadata": {},
   "source": [
    "## Upload Data to S3"
   ]
  },
  {
   "cell_type": "code",
   "execution_count": 18,
   "metadata": {},
   "outputs": [],
   "source": [
    "bucket_name = 'jaelin-ml-sagemaker'\n",
    "\n",
    "training_folder = 'bikerental/training/'\n",
    "validation_folder = 'bikerental/validation/'\n",
    "test_folder = 'bikerental/test/'\n",
    "\n",
    "s3_model_output_location = f's3://{bucket_name}/bikerental/model'\n",
    "s3_training_file_location = f's3://{bucket_name}/{training_folder}'\n",
    "s3_validation_file_location = f's3://{bucket_name}/{validation_folder}'\n",
    "s3_test_file_location = f's3://{bucket_name}/{test_folder}'"
   ]
  },
  {
   "cell_type": "code",
   "execution_count": 19,
   "metadata": {},
   "outputs": [
    {
     "name": "stdout",
     "output_type": "stream",
     "text": [
      "s3://jaelin-ml-sagemaker/bikerental/model\n",
      "s3://jaelin-ml-sagemaker/bikerental/training/\n",
      "s3://jaelin-ml-sagemaker/bikerental/validation/\n",
      "s3://jaelin-ml-sagemaker/bikerental/test/\n"
     ]
    }
   ],
   "source": [
    "print(s3_model_output_location)\n",
    "print(s3_training_file_location)\n",
    "print(s3_validation_file_location)\n",
    "print(s3_test_file_location)"
   ]
  },
  {
   "cell_type": "code",
   "execution_count": 20,
   "metadata": {},
   "outputs": [],
   "source": [
    "# Write and Reading from S3 is just as easy\n",
    "# files are referred as objects in S3.  \n",
    "# file name is referred as key name in S3\n",
    "\n",
    "# File stored in S3 is automatically replicated across 3 different availability zones \n",
    "# in the region where the bucket was created.\n",
    "\n",
    "# http://boto3.readthedocs.io/en/latest/guide/s3.html\n",
    "def write_to_s3(filename, bucket, key):\n",
    "    with open(filename,'rb') as f: # Read in binary mode\n",
    "        return boto3.Session().resource('s3').Bucket(bucket).Object(key).upload_fileobj(f)"
   ]
  },
  {
   "cell_type": "code",
   "execution_count": 21,
   "metadata": {},
   "outputs": [
    {
     "name": "stderr",
     "output_type": "stream",
     "text": [
      "INFO:botocore.credentials:Found credentials in environment variables.\n",
      "INFO:botocore.credentials:Found credentials in environment variables.\n",
      "INFO:botocore.credentials:Found credentials in environment variables.\n"
     ]
    }
   ],
   "source": [
    "write_to_s3('bike_train.csv', \n",
    "            bucket_name,\n",
    "            training_folder + 'bike_train.csv')\n",
    "\n",
    "write_to_s3('bike_validation.csv',\n",
    "            bucket_name,\n",
    "            validation_folder + 'bike_validation.csv')\n",
    "\n",
    "write_to_s3('test.csv',\n",
    "            bucket_name,\n",
    "            test_folder + 'bike_test.csv')"
   ]
  },
  {
   "cell_type": "markdown",
   "metadata": {},
   "source": [
    "## Training Algorithm Docker Image\n",
    "### SageMaker maintains a separate image for algorithm and region\n",
    "https://docs.aws.amazon.com/sagemaker/latest/dg/sagemaker-algo-docker-registry-paths.html"
   ]
  },
  {
   "cell_type": "code",
   "execution_count": 22,
   "metadata": {},
   "outputs": [
    {
     "name": "stdout",
     "output_type": "stream",
     "text": [
      "Checkpoint uri: s3://jaelin-ml-sagemaker/bikerental/checkpoints/xgboost-bikerental-v1\n"
     ]
    }
   ],
   "source": [
    "# Use Spot Instance - Save up to 90% of training cost by using spot instances when compared to on-demand instances\n",
    "# Reference: https://github.com/aws-samples/amazon-sagemaker-managed-spot-training/blob/main/xgboost_built_in_managed_spot_training_checkpointing/xgboost_built_in_managed_spot_training_checkpointing.ipynb\n",
    "\n",
    "# if you are still on two-month free-tier you can use the on-demand instance by setting:\n",
    "#   use_spot_instances = False\n",
    "\n",
    "# We will use spot for training\n",
    "use_spot_instances = True\n",
    "max_run = 3600 # in seconds\n",
    "max_wait = 7200 if use_spot_instances else None # in seconds\n",
    "\n",
    "job_name = 'xgboost-bikerental-v1'\n",
    "\n",
    "checkpoint_s3_uri = None\n",
    "\n",
    "if use_spot_instances:\n",
    "    checkpoint_s3_uri = f's3://{bucket_name}/bikerental/checkpoints/{job_name}'\n",
    "    \n",
    "print (f'Checkpoint uri: {checkpoint_s3_uri}')"
   ]
  },
  {
   "cell_type": "code",
   "execution_count": 23,
   "metadata": {},
   "outputs": [],
   "source": [
    "# Establish a session with AWS\n",
    "sess = sagemaker.Session()"
   ]
  },
  {
   "cell_type": "code",
   "execution_count": 8,
   "metadata": {},
   "outputs": [],
   "source": [
    "# role = get_execution_role()\n",
    "\n",
    "import os\n",
    "role = os.environ.get(\"AWS_SAGEMAKER_ROLE\")"
   ]
  },
  {
   "cell_type": "code",
   "execution_count": 24,
   "metadata": {},
   "outputs": [
    {
     "name": "stdout",
     "output_type": "stream",
     "text": [
      "arn:aws:iam::654654382334:role/service-role/AmazonSageMaker-ExecutionRole-20250530T151413\n"
     ]
    }
   ],
   "source": [
    "# This role contains the permissions needed to train, deploy models\n",
    "# SageMaker Service is trusted to assume this role\n",
    "print(role)"
   ]
  },
  {
   "cell_type": "code",
   "execution_count": 25,
   "metadata": {},
   "outputs": [
    {
     "name": "stderr",
     "output_type": "stream",
     "text": [
      "INFO:sagemaker.image_uris:Ignoring unnecessary instance type: None.\n"
     ]
    },
    {
     "name": "stdout",
     "output_type": "stream",
     "text": [
      "Using XGBoost Container 683313688378.dkr.ecr.us-east-1.amazonaws.com/sagemaker-xgboost:1.2-2\n"
     ]
    }
   ],
   "source": [
    "# https://sagemaker.readthedocs.io/en/stable/api/utility/image_uris.html#sagemaker.image_uris.retrieve\n",
    "\n",
    "# SDK 2 uses image_uris.retrieve the container image location\n",
    "\n",
    "# Use XGBoost 1.2 version \n",
    "container = sagemaker.image_uris.retrieve(\"xgboost\",sess.boto_region_name,version=\"1.2-2\")\n",
    "\n",
    "print (f'Using XGBoost Container {container}')"
   ]
  },
  {
   "cell_type": "markdown",
   "metadata": {},
   "source": [
    "## Build Model"
   ]
  },
  {
   "cell_type": "code",
   "execution_count": 26,
   "metadata": {},
   "outputs": [],
   "source": [
    "# Configure the training job\n",
    "# Specify type and number of instances to use\n",
    "# S3 location where final artifacts needs to be stored\n",
    "\n",
    "#   Reference: http://sagemaker.readthedocs.io/en/latest/estimators.html\n",
    "\n",
    "# for managed spot training, specify the use_spot_instances flag, max_run, max_wait and checkpoint_s3_uri\n",
    "\n",
    "# SDK 2.x version does not require train prefix for instance count and type\n",
    "estimator = sagemaker.estimator.Estimator(\n",
    "    container,\n",
    "    role,\n",
    "    instance_count=1,\n",
    "    instance_type='ml.m5.xlarge',\n",
    "    output_path=s3_model_output_location,\n",
    "    sagemaker_session=sess,\n",
    "    base_job_name = job_name,\n",
    "    use_spot_instances=use_spot_instances,\n",
    "    max_run=max_run,\n",
    "    max_wait=max_wait,\n",
    "    checkpoint_s3_uri=checkpoint_s3_uri)"
   ]
  },
  {
   "cell_type": "code",
   "execution_count": 27,
   "metadata": {},
   "outputs": [],
   "source": [
    "# Specify hyper parameters that appropriate for the training algorithm\n",
    "# XGBoost Training Parameter Reference\n",
    "#  https://github.com/dmlc/xgboost/blob/master/doc/parameter.rst#learning-task-parameters\n",
    "estimator.set_hyperparameters(max_depth=5,\n",
    "                              objective=\"reg:squarederror\",\n",
    "                              eta=0.1,\n",
    "                              num_round=150)"
   ]
  },
  {
   "cell_type": "code",
   "execution_count": 28,
   "metadata": {},
   "outputs": [
    {
     "data": {
      "text/plain": [
       "{'max_depth': 5, 'objective': 'reg:squarederror', 'eta': 0.1, 'num_round': 150}"
      ]
     },
     "execution_count": 28,
     "metadata": {},
     "output_type": "execute_result"
    }
   ],
   "source": [
    "estimator.hyperparameters()"
   ]
  },
  {
   "cell_type": "markdown",
   "metadata": {
    "collapsed": true
   },
   "source": [
    "### Specify Training Data Location and Optionally, Validation Data Location"
   ]
  },
  {
   "cell_type": "code",
   "execution_count": 29,
   "metadata": {},
   "outputs": [],
   "source": [
    "# content type can be libsvm or csv for XGBoost\n",
    "training_input_config = sagemaker.session.TrainingInput(\n",
    "    s3_data=s3_training_file_location,\n",
    "    content_type='csv',\n",
    "    s3_data_type='S3Prefix')\n",
    "\n",
    "validation_input_config = sagemaker.session.TrainingInput(\n",
    "    s3_data=s3_validation_file_location,\n",
    "    content_type='csv',\n",
    "    s3_data_type='S3Prefix'\n",
    ")\n",
    "\n",
    "data_channels = {'train': training_input_config, 'validation': validation_input_config}"
   ]
  },
  {
   "cell_type": "code",
   "execution_count": 30,
   "metadata": {},
   "outputs": [
    {
     "name": "stdout",
     "output_type": "stream",
     "text": [
      "{'DataSource': {'S3DataSource': {'S3DataType': 'S3Prefix', 'S3Uri': 's3://jaelin-ml-sagemaker/bikerental/training/', 'S3DataDistributionType': 'FullyReplicated'}}, 'ContentType': 'csv'}\n",
      "{'DataSource': {'S3DataSource': {'S3DataType': 'S3Prefix', 'S3Uri': 's3://jaelin-ml-sagemaker/bikerental/validation/', 'S3DataDistributionType': 'FullyReplicated'}}, 'ContentType': 'csv'}\n"
     ]
    }
   ],
   "source": [
    "print(training_input_config.config)\n",
    "print(validation_input_config.config)"
   ]
  },
  {
   "cell_type": "markdown",
   "metadata": {},
   "source": [
    "### Train the model"
   ]
  },
  {
   "cell_type": "code",
   "execution_count": 31,
   "metadata": {},
   "outputs": [
    {
     "name": "stderr",
     "output_type": "stream",
     "text": [
      "INFO:sagemaker.telemetry.telemetry_logging:SageMaker Python SDK will collect telemetry to help us better understand our user's needs, diagnose issues, and deliver additional features.\n",
      "To opt out of telemetry, please disable via TelemetryOptOut parameter in SDK defaults config. For more information, refer to https://sagemaker.readthedocs.io/en/stable/overview.html#configuring-and-using-defaults-with-the-sagemaker-python-sdk.\n",
      "INFO:sagemaker:Creating training-job with name: xgboost-bikerental-v1-2025-06-01-22-51-18-458\n"
     ]
    },
    {
     "name": "stdout",
     "output_type": "stream",
     "text": [
      "2025-06-01 22:51:21 Starting - Starting the training job...\n",
      "2025-06-01 22:51:36 Starting - Preparing the instances for training...\n",
      "2025-06-01 22:52:16 Downloading - Downloading the training image......\n",
      "2025-06-01 22:53:18 Training - Training image download completed. Training in progress.\n",
      "2025-06-01 22:53:18 Uploading - Uploading generated training model[2025-06-01 22:53:13.701 ip-10-0-220-178.ec2.internal:7 INFO utils.py:27] RULE_JOB_STOP_SIGNAL_FILENAME: None\n",
      "[2025-06-01:22:53:13:INFO] Imported framework sagemaker_xgboost_container.training\n",
      "[2025-06-01:22:53:13:INFO] Failed to parse hyperparameter objective value reg:squarederror to Json.\n",
      "Returning the value itself\n",
      "[2025-06-01:22:53:13:INFO] No GPUs detected (normal if no gpus installed)\n",
      "[2025-06-01:22:53:13:INFO] Running XGBoost Sagemaker in algorithm mode\n",
      "[2025-06-01:22:53:13:INFO] Determined delimiter of CSV input is ','\n",
      "[2025-06-01:22:53:13:INFO] Determined delimiter of CSV input is ','\n",
      "[2025-06-01:22:53:13:INFO] Determined delimiter of CSV input is ','\n",
      "[2025-06-01:22:53:13:INFO] Determined delimiter of CSV input is ','\n",
      "[2025-06-01:22:53:13:INFO] Single node training.\n",
      "[2025-06-01:22:53:13:INFO] Train matrix has 8709 rows and 11 columns\n",
      "[2025-06-01:22:53:13:INFO] Validation matrix has 2179 rows\n",
      "[2025-06-01 22:53:13.791 ip-10-0-220-178.ec2.internal:7 INFO json_config.py:91] Creating hook from json_config at /opt/ml/input/config/debughookconfig.json.\n",
      "[2025-06-01 22:53:13.792 ip-10-0-220-178.ec2.internal:7 INFO hook.py:201] tensorboard_dir has not been set for the hook. SMDebug will not be exporting tensorboard summaries.\n",
      "[2025-06-01 22:53:13.792 ip-10-0-220-178.ec2.internal:7 INFO profiler_config_parser.py:102] User has disabled profiler.\n",
      "[2025-06-01 22:53:13.793 ip-10-0-220-178.ec2.internal:7 INFO hook.py:255] Saving to /opt/ml/output/tensors\n",
      "[2025-06-01:22:53:13:INFO] Debug hook created from config\n",
      "[0]#011train-rmse:1809.83801#011validation-rmse:1809.50500\n",
      "[2025-06-01 22:53:13.804 ip-10-0-220-178.ec2.internal:7 INFO hook.py:423] Monitoring the collections: metrics\n",
      "[2025-06-01 22:53:13.808 ip-10-0-220-178.ec2.internal:7 INFO hook.py:486] Hook is writing from the hook with pid: 7\n",
      "[1]#011train-rmse:1628.86694#011validation-rmse:1628.58069\n",
      "[2]#011train-rmse:1465.99268#011validation-rmse:1465.74158\n",
      "[3]#011train-rmse:1319.41394#011validation-rmse:1319.18213\n",
      "[4]#011train-rmse:1187.49121#011validation-rmse:1187.27966\n",
      "[5]#011train-rmse:1068.74231#011validation-rmse:1068.56763\n",
      "[6]#011train-rmse:961.89551#011validation-rmse:961.72223\n",
      "[7]#011train-rmse:865.71576#011validation-rmse:865.56189\n",
      "[8]#011train-rmse:779.14258#011validation-rmse:779.01483\n",
      "[9]#011train-rmse:701.23761#011validation-rmse:701.12231\n",
      "[10]#011train-rmse:631.12775#011validation-rmse:631.01794\n",
      "[11]#011train-rmse:568.02295#011validation-rmse:567.92322\n",
      "[12]#011train-rmse:511.22263#011validation-rmse:511.13889\n",
      "[13]#011train-rmse:460.11044#011validation-rmse:460.03189\n",
      "[14]#011train-rmse:414.10089#011validation-rmse:414.03287\n",
      "[15]#011train-rmse:372.69940#011validation-rmse:372.63455\n",
      "[16]#011train-rmse:335.43402#011validation-rmse:335.37717\n",
      "[17]#011train-rmse:301.89441#011validation-rmse:301.84277\n",
      "[18]#011train-rmse:271.70895#011validation-rmse:271.66162\n",
      "[19]#011train-rmse:244.53813#011validation-rmse:244.49934\n",
      "[20]#011train-rmse:220.08894#011validation-rmse:220.05263\n",
      "[21]#011train-rmse:198.08339#011validation-rmse:198.04965\n",
      "[22]#011train-rmse:178.27718#011validation-rmse:178.24750\n",
      "[23]#011train-rmse:160.45235#011validation-rmse:160.42513\n",
      "[24]#011train-rmse:144.40877#011validation-rmse:144.38458\n",
      "[25]#011train-rmse:129.97018#011validation-rmse:129.94836\n",
      "[26]#011train-rmse:116.97541#011validation-rmse:116.95509\n",
      "[27]#011train-rmse:105.27893#011validation-rmse:105.26126\n",
      "[28]#011train-rmse:94.75184#011validation-rmse:94.73687\n",
      "[29]#011train-rmse:85.27799#011validation-rmse:85.26477\n",
      "[30]#011train-rmse:76.75110#011validation-rmse:76.73998\n",
      "[31]#011train-rmse:69.07738#011validation-rmse:69.06728\n",
      "[32]#011train-rmse:62.17107#011validation-rmse:62.16169\n",
      "[33]#011train-rmse:55.95443#011validation-rmse:55.94682\n",
      "[34]#011train-rmse:50.36061#011validation-rmse:50.35343\n",
      "[35]#011train-rmse:45.32558#011validation-rmse:45.31934\n",
      "[36]#011train-rmse:40.79415#011validation-rmse:40.78868\n",
      "[37]#011train-rmse:36.71537#011validation-rmse:36.71115\n",
      "[38]#011train-rmse:33.04529#011validation-rmse:33.04132\n",
      "[39]#011train-rmse:29.74226#011validation-rmse:29.73851\n",
      "[40]#011train-rmse:26.76898#011validation-rmse:26.76604\n",
      "[41]#011train-rmse:24.09339#011validation-rmse:24.09090\n",
      "[42]#011train-rmse:21.68557#011validation-rmse:21.68331\n",
      "[43]#011train-rmse:19.51831#011validation-rmse:19.51661\n",
      "[44]#011train-rmse:17.56825#011validation-rmse:17.56671\n",
      "[45]#011train-rmse:15.81301#011validation-rmse:15.81194\n",
      "[46]#011train-rmse:14.23343#011validation-rmse:14.23276\n",
      "[47]#011train-rmse:12.81235#011validation-rmse:12.81165\n",
      "[48]#011train-rmse:11.53326#011validation-rmse:11.53288\n",
      "[49]#011train-rmse:10.38238#011validation-rmse:10.38213\n",
      "[50]#011train-rmse:9.34678#011validation-rmse:9.34659\n",
      "[51]#011train-rmse:8.41487#011validation-rmse:8.41515\n",
      "[52]#011train-rmse:7.57650#011validation-rmse:7.57685\n",
      "[53]#011train-rmse:6.82231#011validation-rmse:6.82289\n",
      "[54]#011train-rmse:6.14385#011validation-rmse:6.14478\n",
      "[55]#011train-rmse:5.53360#011validation-rmse:5.53456\n",
      "[56]#011train-rmse:4.98486#011validation-rmse:4.98576\n",
      "[57]#011train-rmse:4.49135#011validation-rmse:4.49225\n",
      "[58]#011train-rmse:4.04774#011validation-rmse:4.04863\n",
      "[59]#011train-rmse:3.64901#011validation-rmse:3.65026\n",
      "[60]#011train-rmse:3.29063#011validation-rmse:3.29199\n",
      "[61]#011train-rmse:2.96879#011validation-rmse:2.97050\n",
      "[62]#011train-rmse:2.67987#011validation-rmse:2.68185\n",
      "[63]#011train-rmse:2.42056#011validation-rmse:2.42252\n",
      "[64]#011train-rmse:2.18796#011validation-rmse:2.19036\n",
      "[65]#011train-rmse:1.97951#011validation-rmse:1.98244\n",
      "[66]#011train-rmse:1.79296#011validation-rmse:1.79586\n",
      "[67]#011train-rmse:1.62610#011validation-rmse:1.62956\n",
      "[68]#011train-rmse:1.47701#011validation-rmse:1.48057\n",
      "[69]#011train-rmse:1.34401#011validation-rmse:1.34788\n",
      "[70]#011train-rmse:1.22577#011validation-rmse:1.22960\n",
      "[71]#011train-rmse:1.12062#011validation-rmse:1.12474\n",
      "[72]#011train-rmse:1.02707#011validation-rmse:1.03149\n",
      "[73]#011train-rmse:0.94454#011validation-rmse:0.94956\n",
      "[74]#011train-rmse:0.87203#011validation-rmse:0.87748\n",
      "[75]#011train-rmse:0.80821#011validation-rmse:0.81444\n",
      "[76]#011train-rmse:0.75296#011validation-rmse:0.75943\n",
      "[77]#011train-rmse:0.70420#011validation-rmse:0.71146\n",
      "[78]#011train-rmse:0.66192#011validation-rmse:0.66967\n",
      "[79]#011train-rmse:0.62521#011validation-rmse:0.63348\n",
      "[80]#011train-rmse:0.59406#011validation-rmse:0.60277\n",
      "[81]#011train-rmse:0.56737#011validation-rmse:0.57644\n",
      "[82]#011train-rmse:0.54489#011validation-rmse:0.55416\n",
      "[83]#011train-rmse:0.52555#011validation-rmse:0.53519\n",
      "[84]#011train-rmse:0.50948#011validation-rmse:0.51945\n",
      "[85]#011train-rmse:0.49534#011validation-rmse:0.50592\n",
      "[86]#011train-rmse:0.48361#011validation-rmse:0.49424\n",
      "[87]#011train-rmse:0.47377#011validation-rmse:0.48508\n",
      "[88]#011train-rmse:0.46604#011validation-rmse:0.47741\n",
      "[89]#011train-rmse:0.45939#011validation-rmse:0.47103\n",
      "[90]#011train-rmse:0.45273#011validation-rmse:0.46441\n",
      "[91]#011train-rmse:0.44724#011validation-rmse:0.45937\n",
      "[92]#011train-rmse:0.44359#011validation-rmse:0.45590\n",
      "[93]#011train-rmse:0.44016#011validation-rmse:0.45269\n",
      "[94]#011train-rmse:0.43700#011validation-rmse:0.45011\n",
      "[95]#011train-rmse:0.43353#011validation-rmse:0.44722\n",
      "[96]#011train-rmse:0.43147#011validation-rmse:0.44555\n",
      "[97]#011train-rmse:0.42914#011validation-rmse:0.44342\n",
      "[98]#011train-rmse:0.42751#011validation-rmse:0.44202\n",
      "[99]#011train-rmse:0.42565#011validation-rmse:0.44042\n",
      "[100]#011train-rmse:0.42304#011validation-rmse:0.43857\n",
      "[101]#011train-rmse:0.42177#011validation-rmse:0.43733\n",
      "[102]#011train-rmse:0.42003#011validation-rmse:0.43604\n",
      "[103]#011train-rmse:0.41932#011validation-rmse:0.43553\n",
      "[104]#011train-rmse:0.41801#011validation-rmse:0.43452\n",
      "[105]#011train-rmse:0.41680#011validation-rmse:0.43376\n",
      "[106]#011train-rmse:0.41601#011validation-rmse:0.43314\n",
      "[107]#011train-rmse:0.41491#011validation-rmse:0.43234\n",
      "[108]#011train-rmse:0.41385#011validation-rmse:0.43171\n",
      "[109]#011train-rmse:0.41281#011validation-rmse:0.43094\n",
      "[110]#011train-rmse:0.41186#011validation-rmse:0.43061\n",
      "[111]#011train-rmse:0.41083#011validation-rmse:0.43016\n",
      "[112]#011train-rmse:0.41015#011validation-rmse:0.42968\n",
      "[113]#011train-rmse:0.40912#011validation-rmse:0.42903\n",
      "[114]#011train-rmse:0.40804#011validation-rmse:0.42816\n",
      "[115]#011train-rmse:0.40697#011validation-rmse:0.42752\n",
      "[116]#011train-rmse:0.40609#011validation-rmse:0.42724\n",
      "[117]#011train-rmse:0.40493#011validation-rmse:0.42655\n",
      "[118]#011train-rmse:0.40444#011validation-rmse:0.42627\n",
      "[119]#011train-rmse:0.40394#011validation-rmse:0.42598\n",
      "[120]#011train-rmse:0.40354#011validation-rmse:0.42582\n",
      "[121]#011train-rmse:0.40292#011validation-rmse:0.42563\n",
      "[122]#011train-rmse:0.40242#011validation-rmse:0.42531\n",
      "[123]#011train-rmse:0.40176#011validation-rmse:0.42486\n",
      "[124]#011train-rmse:0.40135#011validation-rmse:0.42483\n",
      "[125]#011train-rmse:0.40082#011validation-rmse:0.42467\n",
      "[126]#011train-rmse:0.40031#011validation-rmse:0.42417\n",
      "[127]#011train-rmse:0.39937#011validation-rmse:0.42355\n",
      "[128]#011train-rmse:0.39886#011validation-rmse:0.42325\n",
      "[129]#011train-rmse:0.39793#011validation-rmse:0.42271\n",
      "[130]#011train-rmse:0.39748#011validation-rmse:0.42247\n",
      "[131]#011train-rmse:0.39735#011validation-rmse:0.42242\n",
      "[132]#011train-rmse:0.39714#011validation-rmse:0.42237\n",
      "[133]#011train-rmse:0.39668#011validation-rmse:0.42199\n",
      "[134]#011train-rmse:0.39624#011validation-rmse:0.42166\n",
      "[135]#011train-rmse:0.39543#011validation-rmse:0.42124\n",
      "[136]#011train-rmse:0.39440#011validation-rmse:0.42087\n",
      "[137]#011train-rmse:0.39348#011validation-rmse:0.42037\n",
      "[138]#011train-rmse:0.39283#011validation-rmse:0.42021\n",
      "[139]#011train-rmse:0.39169#011validation-rmse:0.41941\n",
      "[140]#011train-rmse:0.39110#011validation-rmse:0.41906\n",
      "[141]#011train-rmse:0.39037#011validation-rmse:0.41880\n",
      "[142]#011train-rmse:0.38995#011validation-rmse:0.41859\n",
      "[143]#011train-rmse:0.38970#011validation-rmse:0.41857\n",
      "[144]#011train-rmse:0.38946#011validation-rmse:0.41845\n",
      "[145]#011train-rmse:0.38916#011validation-rmse:0.41838\n",
      "[146]#011train-rmse:0.38878#011validation-rmse:0.41824\n",
      "[147]#011train-rmse:0.38787#011validation-rmse:0.41800\n",
      "[148]#011train-rmse:0.38712#011validation-rmse:0.41771\n",
      "[149]#011train-rmse:0.38655#011validation-rmse:0.41741\n",
      "\n",
      "2025-06-01 22:53:30 Completed - Training job completed\n",
      "Training seconds: 94\n",
      "Billable seconds: 31\n",
      "Managed Spot Training savings: 67.0%\n"
     ]
    }
   ],
   "source": [
    "# XGBoost supports \"train\", \"validation\" channels\n",
    "# Reference: Supported channels by algorithm\n",
    "#   https://docs.aws.amazon.com/sagemaker/latest/dg/sagemaker-algo-docker-registry-paths.html\n",
    "estimator.fit(data_channels)"
   ]
  },
  {
   "cell_type": "markdown",
   "metadata": {},
   "source": [
    "## Deploy Model"
   ]
  },
  {
   "cell_type": "code",
   "execution_count": 32,
   "metadata": {},
   "outputs": [
    {
     "name": "stderr",
     "output_type": "stream",
     "text": [
      "INFO:sagemaker:Creating model with name: xgboost-bikerental-v1-2025-06-01-22-57-03-901\n",
      "INFO:sagemaker:Creating endpoint-config with name xgboost-bikerental-v1\n",
      "INFO:sagemaker:Creating endpoint with name xgboost-bikerental-v1\n"
     ]
    },
    {
     "name": "stdout",
     "output_type": "stream",
     "text": [
      "------!"
     ]
    }
   ],
   "source": [
    "# Ref: http://sagemaker.readthedocs.io/en/latest/estimators.html\n",
    "predictor = estimator.deploy(initial_instance_count=1,\n",
    "                             instance_type='ml.m5.xlarge',\n",
    "                             endpoint_name = job_name)"
   ]
  },
  {
   "cell_type": "markdown",
   "metadata": {
    "collapsed": true
   },
   "source": [
    "## Run Predictions"
   ]
  },
  {
   "cell_type": "code",
   "execution_count": 33,
   "metadata": {},
   "outputs": [],
   "source": [
    "# SDK 2.0 serializers\n",
    "from sagemaker.serializers import CSVSerializer"
   ]
  },
  {
   "cell_type": "code",
   "execution_count": 34,
   "metadata": {},
   "outputs": [],
   "source": [
    "predictor.serializer = CSVSerializer()"
   ]
  },
  {
   "cell_type": "code",
   "execution_count": 36,
   "metadata": {},
   "outputs": [
    {
     "data": {
      "text/plain": [
       "b'2011.12890625\\n'"
      ]
     },
     "execution_count": 36,
     "metadata": {},
     "output_type": "execute_result"
    }
   ],
   "source": [
    "predictor.predict([[3,0,1,2,28.7,33.335,79,12.998,2011,7,7]])"
   ]
  },
  {
   "cell_type": "markdown",
   "metadata": {
    "collapsed": true
   },
   "source": [
    "## Summary"
   ]
  },
  {
   "cell_type": "markdown",
   "metadata": {},
   "source": [
    "1. Ensure Training, Test and Validation data are in S3 Bucket\n",
    "2. Select Algorithm Container Registry Path - Path varies by region\n",
    "3. Configure Estimator for training - Specify Algorithm container, instance count, instance type, model output location\n",
    "4. Specify algorithm specific hyper parameters\n",
    "5. Train model\n",
    "6. Deploy model - Specify instance count, instance type and endpoint name\n",
    "7. Run Predictions"
   ]
  }
 ],
 "metadata": {
  "kernelspec": {
   "display_name": "Python 3",
   "language": "python",
   "name": "python3"
  },
  "language_info": {
   "codemirror_mode": {
    "name": "ipython",
    "version": 3
   },
   "file_extension": ".py",
   "mimetype": "text/x-python",
   "name": "python",
   "nbconvert_exporter": "python",
   "pygments_lexer": "ipython3",
   "version": "3.10.17"
  }
 },
 "nbformat": 4,
 "nbformat_minor": 2
}
